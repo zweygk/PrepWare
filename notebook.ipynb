{
 "cells": [
  {
   "cell_type": "code",
   "execution_count": 1,
   "metadata": {},
   "outputs": [],
   "source": [
    "from DailyMinimumIntake import DailyMinimumIntake\n",
    "from SurvivalBot import SurvivalBot\n",
    "\n",
    "import warnings\n",
    "warnings.filterwarnings(\"ignore\")"
   ]
  },
  {
   "cell_type": "code",
   "execution_count": 2,
   "metadata": {},
   "outputs": [],
   "source": [
    "survivalBot = SurvivalBot('survival.csv')"
   ]
  },
  {
   "cell_type": "code",
   "execution_count": 3,
   "metadata": {},
   "outputs": [],
   "source": [
    "dailyMinimumIntake = DailyMinimumIntake(\n",
    "    calories = 1200,\n",
    "    protein = 56,\n",
    "    sugar = 0.001,\n",
    "    carbohydrates = 225,\n",
    "    fat = 44\n",
    ")"
   ]
  },
  {
   "cell_type": "code",
   "execution_count": 4,
   "metadata": {},
   "outputs": [
    {
     "name": "stdout",
     "output_type": "stream",
     "text": [
      "Beep boop\n",
      "\n",
      "You have\n",
      "\n",
      "    - 36.8 days of calories\n",
      "    - 34.4 days of protein\n",
      "    - 600460.0 days of sugar\n",
      "    - 26.1 days of carbohydrates\n",
      "    - 31.5 days of fat\n",
      "\n",
      "left.\n"
     ]
    }
   ],
   "source": [
    "survivalBot.get_days_left(dailyMinimumIntake)"
   ]
  },
  {
   "cell_type": "code",
   "execution_count": 5,
   "metadata": {},
   "outputs": [
    {
     "name": "stdout",
     "output_type": "stream",
     "text": [
      "Bzzzz. Computing optimal meal using Lasso objective.\n",
      "Done.\n",
      "\n",
      "Optimal meal combination of 3 items is \n",
      "\n",
      "('Riipisen Poronlihaa', 'Myllyn Paras Riisihiutale', 'Pirkka Vihreä Pesto')\n",
      "With weights [1.88178434 2.63456563 0.0571365 ]\n",
      "Resulting in a R² of 0.9998417226674827 for fitting the minimum daily intake.\n"
     ]
    }
   ],
   "source": [
    "best_combo, coef, score = survivalBot.compute_optimal_meal(dailyMinimumIntake, 3)"
   ]
  },
  {
   "cell_type": "code",
   "execution_count": null,
   "metadata": {},
   "outputs": [],
   "source": []
  },
  {
   "cell_type": "code",
   "execution_count": null,
   "metadata": {},
   "outputs": [],
   "source": []
  },
  {
   "cell_type": "code",
   "execution_count": null,
   "metadata": {},
   "outputs": [],
   "source": []
  },
  {
   "cell_type": "code",
   "execution_count": null,
   "metadata": {},
   "outputs": [],
   "source": []
  }
 ],
 "metadata": {
  "kernelspec": {
   "display_name": "Python 3",
   "language": "python",
   "name": "python3"
  },
  "language_info": {
   "codemirror_mode": {
    "name": "ipython",
    "version": 3
   },
   "file_extension": ".py",
   "mimetype": "text/x-python",
   "name": "python",
   "nbconvert_exporter": "python",
   "pygments_lexer": "ipython3",
   "version": "3.7.6"
  }
 },
 "nbformat": 4,
 "nbformat_minor": 2
}
