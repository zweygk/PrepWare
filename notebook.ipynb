{
 "cells": [
  {
   "cell_type": "code",
   "execution_count": 1,
   "metadata": {},
   "outputs": [],
   "source": [
    "from DailyMinimumIntake import DailyMinimumIntake\n",
    "from SurvivalBot import SurvivalBot\n",
    "\n",
    "import warnings\n",
    "warnings.filterwarnings(\"ignore\")"
   ]
  },
  {
   "cell_type": "code",
   "execution_count": 2,
   "metadata": {},
   "outputs": [],
   "source": [
    "survivalBot = SurvivalBot('example.csv')"
   ]
  },
  {
   "cell_type": "code",
   "execution_count": 3,
   "metadata": {},
   "outputs": [],
   "source": [
    "dailyMinimumIntake = DailyMinimumIntake(\n",
    "    calories = 1200,\n",
    "    protein = 56,\n",
    "    sugar = 0.001,\n",
    "    carbohydrates = 225,\n",
    "    fat = 44\n",
    ")"
   ]
  },
  {
   "cell_type": "code",
   "execution_count": 4,
   "metadata": {},
   "outputs": [
    {
     "name": "stdout",
     "output_type": "stream",
     "text": "Beep boop\n\nYou have\n\n    - 36.1 days of calories\n    - 32.1 days of protein\n    - 598980.0 days of sugar\n    - 26.0 days of carbohydrates\n    - 29.5 days of fat\n\nleft.\n"
    }
   ],
   "source": [
    "survivalBot.get_days_left(dailyMinimumIntake)"
   ]
  },
  {
   "cell_type": "code",
   "execution_count": 5,
   "metadata": {},
   "outputs": [
    {
     "name": "stdout",
     "output_type": "stream",
     "text": "Bzzzz. Computing optimal meal using Lasso objective.\nDone.\n\nOptimal meal combination of 3 items is \n\n('K-menu Naudan- ja sianliha', 'Pirkka Pitkäjyväinen Riisi', 'Valio Aamupala Raikas')\nWith weights [0.68295435 2.70084201 0.28900989]\nor grams: [68.29543469708305, 270.08420058624097, 28.900989098380407]\nResulting in a R² of 0.9996883691726721 for fitting the minimum daily intake.\n"
    }
   ],
   "source": [
    "best_combo, coef, score = survivalBot.compute_optimal_meal(dailyMinimumIntake, 3)"
   ]
  },
  {
   "cell_type": "code",
   "execution_count": null,
   "metadata": {},
   "outputs": [],
   "source": []
  },
  {
   "cell_type": "code",
   "execution_count": null,
   "metadata": {},
   "outputs": [],
   "source": []
  },
  {
   "cell_type": "code",
   "execution_count": null,
   "metadata": {},
   "outputs": [],
   "source": []
  },
  {
   "cell_type": "code",
   "execution_count": null,
   "metadata": {},
   "outputs": [],
   "source": []
  }
 ],
 "metadata": {
  "kernelspec": {
   "display_name": "Python 3",
   "language": "python",
   "name": "python3"
  },
  "language_info": {
   "codemirror_mode": {
    "name": "ipython",
    "version": 3
   },
   "file_extension": ".py",
   "mimetype": "text/x-python",
   "name": "python",
   "nbconvert_exporter": "python",
   "pygments_lexer": "ipython3",
   "version": "3.7.6-final"
  }
 },
 "nbformat": 4,
 "nbformat_minor": 2
}